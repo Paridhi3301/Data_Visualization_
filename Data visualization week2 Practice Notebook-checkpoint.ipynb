{
 "cells": [
  {
   "cell_type": "markdown",
   "metadata": {},
   "source": [
    "# Practice notebook for univariate analysis using NHANES data\n",
    "\n",
    "This notebook will give you the opportunity to perform some univariate analyses on your own using the NHANES.  These analyses are similar to what was done in the week 2 NHANES case study notebook.\n",
    "\n",
    "You can enter your code into the cells that say \"enter your code here\", and you can type responses to the questions into the cells that say \"Type Markdown and Latex\".\n",
    "\n",
    "Note that most of the code that you will need to write below is very similar to code that appears in the case study notebook.  You will need to edit code from that notebook in small ways to adapt it to the prompts below.\n",
    "\n",
    "To get started, we will use the same module imports and read the data in the same way as we did in the case study:"
   ]
  },
  {
   "cell_type": "code",
   "execution_count": 2,
   "metadata": {},
   "outputs": [],
   "source": [
    "%matplotlib inline\n",
    "import matplotlib.pyplot as plt\n",
    "import seaborn as sns\n",
    "import pandas as pd\n",
    "import statsmodels.api as sm\n",
    "import numpy as np\n",
    "\n",
    "da = pd.read_csv(\"nhanes_2015_2016.csv\")"
   ]
  },
  {
   "cell_type": "markdown",
   "metadata": {},
   "source": [
    "## Question 1\n",
    "\n",
    "Relabel the marital status variable [DMDMARTL](https://wwwn.cdc.gov/Nchs/Nhanes/2015-2016/DEMO_I.htm#DMDMARTL) to have brief but informative character labels.  Then construct a frequency table of these values for all people, then for women only, and for men only.  Then construct these three frequency tables using only people whose age is between 30 and 40."
   ]
  },
  {
   "cell_type": "code",
   "execution_count": 84,
   "metadata": {},
   "outputs": [
    {
     "data": {
      "text/plain": [
       "Married                2780\n",
       "Never married          1004\n",
       "Divorced                579\n",
       "Living with partner     527\n",
       "Widowed                 396\n",
       "Separated               186\n",
       "Refused                   2\n",
       "Name: DMDMARx, dtype: int64"
      ]
     },
     "execution_count": 84,
     "metadata": {},
     "output_type": "execute_result"
    }
   ],
   "source": [
    "# insert your code here\n",
    "da[\"DMDMARx\"] = da.DMDMARTL.replace({1: \"Married\", 2: \"Widowed\", 3:\"Divorced\", 4:\"Separated\", 5:\"Never married\", 6:\"Living with partner\", 77:\"Refused\", 99:\"Don't Know\"})\n",
    "da.DMDMARx.value_counts()"
   ]
  },
  {
   "cell_type": "code",
   "execution_count": 87,
   "metadata": {},
   "outputs": [
    {
     "data": {
      "text/plain": [
       "Female    2976\n",
       "Male      2759\n",
       "Name: RIAGENDRx, dtype: int64"
      ]
     },
     "execution_count": 87,
     "metadata": {},
     "output_type": "execute_result"
    }
   ],
   "source": [
    "da[\"RIAGENDRx\"] = da.RIAGENDR.replace({1: \"Male\", 2: \"Female\"})\n",
    "da.RIAGENDRx.value_counts()"
   ]
  },
  {
   "cell_type": "code",
   "execution_count": 88,
   "metadata": {},
   "outputs": [
    {
     "name": "stdout",
     "output_type": "stream",
     "text": [
      "Frequency table for all people:\n",
      "Married                2780\n",
      "Never married          1004\n",
      "Divorced                579\n",
      "Living with partner     527\n",
      "Widowed                 396\n",
      "Separated               186\n",
      "Refused                   2\n",
      "Name: DMDMARx, dtype: int64\n",
      "\n",
      "Frequency table for women only:\n",
      "Married                1303\n",
      "Never married           520\n",
      "Divorced                350\n",
      "Widowed                 296\n",
      "Living with partner     262\n",
      "Separated               118\n",
      "Refused                   1\n",
      "Name: DMDMARx, dtype: int64\n",
      "\n",
      "Frequency table for men only:\n",
      "Married                1477\n",
      "Never married           484\n",
      "Living with partner     265\n",
      "Divorced                229\n",
      "Widowed                 100\n",
      "Separated                68\n",
      "Refused                   1\n",
      "Name: DMDMARx, dtype: int64\n",
      "\n",
      "Filtered frequency table for all people (age between 30 and 40):\n",
      "Married                560\n",
      "Never married          217\n",
      "Living with partner    143\n",
      "Divorced                70\n",
      "Separated               30\n",
      "Widowed                  5\n",
      "Refused                  1\n",
      "Name: DMDMARx, dtype: int64\n",
      "\n",
      "Filtered frequency table for women only (age between 30 and 40):\n",
      "Married                285\n",
      "Never married          116\n",
      "Living with partner     65\n",
      "Divorced                46\n",
      "Separated               18\n",
      "Widowed                  2\n",
      "Name: DMDMARx, dtype: int64\n",
      "\n",
      "Filtered frequency table for men only (age between 30 and 40):\n",
      "Married                275\n",
      "Never married          101\n",
      "Living with partner     78\n",
      "Divorced                24\n",
      "Separated               12\n",
      "Widowed                  3\n",
      "Refused                  1\n",
      "Name: DMDMARx, dtype: int64\n"
     ]
    }
   ],
   "source": [
    "# insert your code here\n",
    "da[\"DMDMARx\"] = da.DMDMARTL.replace({1: \"Married\", 2: \"Widowed\", 3:\"Divorced\", 4:\"Separated\", 5:\"Never married\", 6:\"Living with partner\", 77:\"Refused\", 99:\"Don't Know\"})\n",
    "da.DMDMARx.value_counts()\n",
    "all_people_freq = da['DMDMARx'].value_counts()\n",
    "women_freq = da[da['RIAGENDR'] == 2]['DMDMARx'].value_counts()\n",
    "men_freq = da[da['RIAGENDR'] == 1]['DMDMARx'].value_counts()\n",
    "filtered_data = da[(da['RIDAGEYR'] >= 30) & (da['RIDAGEYR'] <= 40)]\n",
    "filtered_all_people_freq = filtered_data['DMDMARx'].value_counts()\n",
    "filtered_women_freq = filtered_data[filtered_data['RIAGENDR'] == 2]['DMDMARx'].value_counts()\n",
    "filtered_men_freq = filtered_data[filtered_data['RIAGENDR'] == 1]['DMDMARx'].value_counts()\n",
    "print(\"Frequency table for all people:\")\n",
    "print(all_people_freq)\n",
    "print(\"\\nFrequency table for women only:\")\n",
    "print(women_freq)\n",
    "print(\"\\nFrequency table for men only:\")\n",
    "print(men_freq)\n",
    "print(\"\\nFiltered frequency table for all people (age between 30 and 40):\")\n",
    "print(filtered_all_people_freq)\n",
    "print(\"\\nFiltered frequency table for women only (age between 30 and 40):\")\n",
    "print(filtered_women_freq)\n",
    "print(\"\\nFiltered frequency table for men only (age between 30 and 40):\")\n",
    "print(filtered_men_freq)"
   ]
  },
  {
   "cell_type": "markdown",
   "metadata": {},
   "source": [
    "__Q1a.__ Briefly comment on some of the differences that you observe between the distribution of marital status between women and men, for people of all ages."
   ]
  },
  {
   "cell_type": "markdown",
   "metadata": {},
   "source": [
    "## Answer\n",
    "**1.Proportion of Married Individuals:** The frequency table shows that 1303 women and 1477 men are married. This suggests a slightly higher proportion of married men compared to married women in the overall population.\n",
    "\n",
    "**2.Proportion of Never Married Individuals:** Among women, 520 have never been married, while among men, 484 have never been married. This indicates a slightly higher proportion of never married women compared to never married men in the overall population.\n",
    "\n",
    "**3.Proportion of Living with Partner:** The frequency table reveals that 262 women and 265 men are living with a partner. This suggests a relatively similar proportion of women and men living with a partner in the overall population.\n",
    "\n",
    "**4.Proportion of Divorced Individuals:** Among women, 350 are divorced, while among men, 229 are divorced. This indicates a higher proportion of divorced women compared to divorced men in the overall population.\n",
    "\n",
    "**5.Proportion of Widowed Individuals:** The frequency table shows that 296 women and 100 men are widowed. This suggests a significantly higher proportion of widowed women compared to widowed men in the overall population.\n",
    "\n",
    "**6.Proportion of Separated Individuals:** Among women, 118 are separated, while among men, 68 are separated. This indicates a higher proportion of separated women compared to separated men in the overall population."
   ]
  },
  {
   "cell_type": "markdown",
   "metadata": {},
   "source": [
    "__Q1b.__ Briefly comment on the differences that you observe between the distribution of marital status states for women between the overall population, and for women between the ages of 30 and 40."
   ]
  },
  {
   "cell_type": "markdown",
   "metadata": {},
   "source": [
    "## Answer\n",
    "**1.Proportion of Married Women:** In the overall population, 1303 women are married, while among women aged 30 to 40, 285 women are married. This indicates a lower proportion of married women in the age group of 30 to 40 compared to the overall population.\n",
    "\n",
    "**2.Proportion of Never Married Women:** In the overall population, 520 women have never been married, while among women aged 30 to 40, 116 women have never been married. This suggests a lower proportion of never married women in the age group of 30 to 40 compared to the overall population.\n",
    "\n",
    "**3.Proportion of Living with Partner:** In the overall population, 262 women are living with a partner, while among women aged 30 to 40, 65 women are living with a partner. This indicates a lower proportion of women living with a partner in the age group of 30 to 40 compared to the overall population.\n",
    "\n",
    "**4.Proportion of Divorced Women:** In the overall population, 350 women are divorced, while among women aged 30 to 40, 46 women are divorced. This suggests a lower proportion of divorced women in the age group of 30 to 40 compared to the overall population.\n",
    "\n",
    "**5.Proportion of Widowed Women:** In the overall population, 296 women are widowed, while among women aged 30 to 40, 2 women are widowed. This indicates a significantly lower proportion of widowed women in the age group of 30 to 40 compared to the overall population.\n",
    "\n",
    "**6.Proportion of Separated Women:** In the overall population, 118 women are separated, while among women aged 30 to 40, 18 women are separated. This suggests a lower proportion of separated women in the age group of 30 to 40 compared to the overall population."
   ]
  },
  {
   "cell_type": "markdown",
   "metadata": {},
   "source": [
    "__Q1c.__ Repeat part b for the men."
   ]
  },
  {
   "cell_type": "markdown",
   "metadata": {},
   "source": [
    "## Answer\n",
    "**1.Proportion of Married Men:** In the overall population, there are 1477 married men, while among men aged 30 to 40, there are 275 married men. This indicates a lower proportion of married men in the age group of 30 to 40 compared to the overall population.\n",
    "\n",
    "**2.Proportion of Never Married Men:** In the overall population, there are 484 never married men, while among men aged 30 to 40, there are 101 never married men. This suggests a lower proportion of never married men in the age group of 30 to 40 compared to the overall population.\n",
    "\n",
    "**3.Proportion of Living with Partner:** In the overall population, there are 265 men living with a partner, while among men aged 30 to 40, there are 78 men living with a partner. This indicates a lower proportion of men living with a partner in the age group of 30 to 40 compared to the overall population.\n",
    "\n",
    "**4.Proportion of Divorced Men:** In the overall population, there are 229 divorced men, while among men aged 30 to 40, there are 24 divorced men. This suggests a lower proportion of divorced men in the age group of 30 to 40 compared to the overall population.\n",
    "\n",
    "**5.Proportion of Widowed Men:** In the overall population, there are 100 widowed men, while among men aged 30 to 40, there are 3 widowed men. This indicates a significantly lower proportion of widowed men in the age group of 30 to 40 compared to the overall population.\n",
    "\n",
    "**6.Proportion of Separated Men:** In the overall population, there are 68 separated men, while among men aged 30 to 40, there are 12 separated men. This suggests a lower proportion of separated men in the age group of 30 to 40 compared to the overall population."
   ]
  },
  {
   "cell_type": "markdown",
   "metadata": {},
   "source": [
    "## Question 2\n",
    "\n",
    "Restricting to the female population, stratify the subjects into age bands no wider than ten years, and construct the distribution of marital status within each age band.  Within each age band, present the distribution in terms of proportions that must sum to 1."
   ]
  },
  {
   "cell_type": "code",
   "execution_count": 89,
   "metadata": {},
   "outputs": [
    {
     "name": "stdout",
     "output_type": "stream",
     "text": [
      "DMDMARx   Divorced  Living with partner  Married  Never married  Refused  Separated  Widowed\n",
      "agegrp2                                                                                     \n",
      "(10, 20]       NaN                 0.03     0.00           0.06      NaN        NaN      NaN\n",
      "(20, 30]      0.03                 0.40     0.12           0.44      NaN       0.09      NaN\n",
      "(30, 40]      0.12                 0.22     0.20           0.19      NaN       0.14     0.01\n",
      "(40, 50]      0.20                 0.14     0.22           0.12      NaN       0.28     0.04\n",
      "(50, 60]      0.24                 0.12     0.20           0.08     1.00       0.23     0.09\n",
      "(60, 70]      0.24                 0.07     0.16           0.07      NaN       0.19     0.22\n",
      "(70, 80]      0.17                 0.01     0.10           0.04      NaN       0.07     0.64\n"
     ]
    }
   ],
   "source": [
    "# insert your code here\n",
    "x = da[da.RIAGENDRx == \"Female\"]\n",
    "x[\"agegrp2\"] = pd.cut(da.RIDAGEYR, [10,20, 30, 40, 50, 60, 70, 80])\n",
    "dx = x.groupby([\"agegrp2\"])[\"DMDMARx\"].value_counts().unstack()\n",
    "dx = dx.apply(lambda y: y/y.sum(), axis=0)\n",
    "print(dx.to_string(float_format=\"%.2f\")) "
   ]
  },
  {
   "cell_type": "code",
   "execution_count": 91,
   "metadata": {},
   "outputs": [
    {
     "data": {
      "text/html": [
       "<div>\n",
       "<style scoped>\n",
       "    .dataframe tbody tr th:only-of-type {\n",
       "        vertical-align: middle;\n",
       "    }\n",
       "\n",
       "    .dataframe tbody tr th {\n",
       "        vertical-align: top;\n",
       "    }\n",
       "\n",
       "    .dataframe thead th {\n",
       "        text-align: right;\n",
       "    }\n",
       "</style>\n",
       "<table border=\"1\" class=\"dataframe\">\n",
       "  <thead>\n",
       "    <tr style=\"text-align: right;\">\n",
       "      <th>DMDMARx</th>\n",
       "      <th>Divorced</th>\n",
       "      <th>Living with partner</th>\n",
       "      <th>Married</th>\n",
       "      <th>Never married</th>\n",
       "      <th>Refused</th>\n",
       "      <th>Separated</th>\n",
       "      <th>Widowed</th>\n",
       "    </tr>\n",
       "    <tr>\n",
       "      <th>agegrp</th>\n",
       "      <th></th>\n",
       "      <th></th>\n",
       "      <th></th>\n",
       "      <th></th>\n",
       "      <th></th>\n",
       "      <th></th>\n",
       "      <th></th>\n",
       "    </tr>\n",
       "  </thead>\n",
       "  <tbody>\n",
       "    <tr>\n",
       "      <th>(10, 20]</th>\n",
       "      <td>NaN</td>\n",
       "      <td>0.048485</td>\n",
       "      <td>0.006061</td>\n",
       "      <td>0.181818</td>\n",
       "      <td>NaN</td>\n",
       "      <td>NaN</td>\n",
       "      <td>NaN</td>\n",
       "    </tr>\n",
       "    <tr>\n",
       "      <th>(20, 30]</th>\n",
       "      <td>0.021401</td>\n",
       "      <td>0.206226</td>\n",
       "      <td>0.305447</td>\n",
       "      <td>0.445525</td>\n",
       "      <td>NaN</td>\n",
       "      <td>0.021401</td>\n",
       "      <td>NaN</td>\n",
       "    </tr>\n",
       "    <tr>\n",
       "      <th>(30, 40]</th>\n",
       "      <td>0.090717</td>\n",
       "      <td>0.120253</td>\n",
       "      <td>0.544304</td>\n",
       "      <td>0.204641</td>\n",
       "      <td>NaN</td>\n",
       "      <td>0.035865</td>\n",
       "      <td>0.004219</td>\n",
       "    </tr>\n",
       "    <tr>\n",
       "      <th>(40, 50]</th>\n",
       "      <td>0.137450</td>\n",
       "      <td>0.073705</td>\n",
       "      <td>0.573705</td>\n",
       "      <td>0.125498</td>\n",
       "      <td>NaN</td>\n",
       "      <td>0.065737</td>\n",
       "      <td>0.023904</td>\n",
       "    </tr>\n",
       "    <tr>\n",
       "      <th>(50, 60]</th>\n",
       "      <td>0.176596</td>\n",
       "      <td>0.068085</td>\n",
       "      <td>0.546809</td>\n",
       "      <td>0.089362</td>\n",
       "      <td>0.002128</td>\n",
       "      <td>0.057447</td>\n",
       "      <td>0.059574</td>\n",
       "    </tr>\n",
       "    <tr>\n",
       "      <th>(60, 70]</th>\n",
       "      <td>0.192744</td>\n",
       "      <td>0.043084</td>\n",
       "      <td>0.480726</td>\n",
       "      <td>0.086168</td>\n",
       "      <td>NaN</td>\n",
       "      <td>0.049887</td>\n",
       "      <td>0.147392</td>\n",
       "    </tr>\n",
       "    <tr>\n",
       "      <th>(70, 80]</th>\n",
       "      <td>0.143902</td>\n",
       "      <td>0.007317</td>\n",
       "      <td>0.317073</td>\n",
       "      <td>0.051220</td>\n",
       "      <td>NaN</td>\n",
       "      <td>0.019512</td>\n",
       "      <td>0.460976</td>\n",
       "    </tr>\n",
       "  </tbody>\n",
       "</table>\n",
       "</div>"
      ],
      "text/plain": [
       "DMDMARx   Divorced  Living with partner   Married  Never married   Refused  \\\n",
       "agegrp                                                                       \n",
       "(10, 20]       NaN             0.048485  0.006061       0.181818       NaN   \n",
       "(20, 30]  0.021401             0.206226  0.305447       0.445525       NaN   \n",
       "(30, 40]  0.090717             0.120253  0.544304       0.204641       NaN   \n",
       "(40, 50]  0.137450             0.073705  0.573705       0.125498       NaN   \n",
       "(50, 60]  0.176596             0.068085  0.546809       0.089362  0.002128   \n",
       "(60, 70]  0.192744             0.043084  0.480726       0.086168       NaN   \n",
       "(70, 80]  0.143902             0.007317  0.317073       0.051220       NaN   \n",
       "\n",
       "DMDMARx   Separated   Widowed  \n",
       "agegrp                         \n",
       "(10, 20]        NaN       NaN  \n",
       "(20, 30]   0.021401       NaN  \n",
       "(30, 40]   0.035865  0.004219  \n",
       "(40, 50]   0.065737  0.023904  \n",
       "(50, 60]   0.057447  0.059574  \n",
       "(60, 70]   0.049887  0.147392  \n",
       "(70, 80]   0.019512  0.460976  "
      ]
     },
     "execution_count": 91,
     "metadata": {},
     "output_type": "execute_result"
    }
   ],
   "source": [
    "da[\"agegrp\"] = pd.cut(da.RIDAGEYR, [10,20, 30, 40, 50, 60, 70, 80])\n",
    "(da[da['RIAGENDRx'] == \"Female\"].groupby(['agegrp', 'DMDMARx']).size() / da[da['RIAGENDRx'] == \"Female\"].groupby(['agegrp']).size()).unstack()"
   ]
  },
  {
   "cell_type": "markdown",
   "metadata": {},
   "source": [
    "__Q2a.__ Comment on the trends that you see in this series of marginal distributions."
   ]
  },
  {
   "cell_type": "markdown",
   "metadata": {},
   "source": [
    "## Answer\n",
    "**1.Marital Status Shift:** The proportions of marital status change across different age groups. In general, the proportion of females who are never married tends to decrease as age increases, while the proportion of females who are married tends to increase with age. This suggests a shift towards marriage as females get older.\n",
    "\n",
    "**2.Higher Proportion of Married Females:** The highest proportion of married females is observed in the age group (30, 40]. This indicates that this age group has a higher likelihood of being married compared to other age groups. This could be due to factors such as stability, establishment of careers, and starting families.\n",
    "\n",
    "**3.Higher Proportion of Divorced Females in Older Age Groups:** The proportions of divorced females tend to increase in the older age groups, particularly in the age groups (50, 60] and (60, 70]. This suggests that divorce becomes more prevalent as females age, possibly due to changing circumstances, personal growth, or other factors.\n",
    "\n",
    "**4.Widowed Females in Older Age Groups:** The proportion of widowed females is relatively low in the younger age groups but increases significantly in the older age groups, particularly in the age group (70, 80]. This aligns with the natural progression of life and the higher likelihood of losing a spouse as one gets older.\n",
    "\n",
    "**5.Living with Partner:** The proportion of females living with a partner is relatively low across all age groups, but it shows a slight decrease as age increases. This could be due to various factors such as marriage, separation, or changes in relationship status.\n",
    "\n",
    "**Overall, the trends in the series of marginal distributions highlight the dynamic nature of marital status among females across different age groups. These trends reflect the societal and personal factors that influence marital decisions and life circumstances throughout a woman's life.**"
   ]
  },
  {
   "cell_type": "markdown",
   "metadata": {},
   "source": [
    "__Q2b.__ Repeat the construction for males."
   ]
  },
  {
   "cell_type": "code",
   "execution_count": 94,
   "metadata": {},
   "outputs": [
    {
     "name": "stdout",
     "output_type": "stream",
     "text": [
      "DMDMARx   Divorced  Living with partner  Married  Never married  Refused  Separated  Widowed\n",
      "agegrp2                                                                                     \n",
      "(10, 20]       NaN                 0.01     0.00           0.07      NaN        NaN      NaN\n",
      "(20, 30]      0.01                 0.35     0.07           0.47      NaN       0.10     0.02\n",
      "(30, 40]      0.10                 0.27     0.17           0.18     1.00       0.18     0.02\n",
      "(40, 50]      0.15                 0.12     0.19           0.08      NaN       0.16     0.02\n",
      "(50, 60]      0.25                 0.13     0.20           0.10      NaN       0.15     0.10\n",
      "(60, 70]      0.24                 0.08     0.20           0.08      NaN       0.21     0.17\n",
      "(70, 80]      0.25                 0.03     0.17           0.02      NaN       0.21     0.67\n"
     ]
    }
   ],
   "source": [
    "# insert your code here\n",
    "x = da[da.RIAGENDRx == \"Male\"]\n",
    "x[\"agegrp2\"] = pd.cut(da.RIDAGEYR, [10,20, 30, 40, 50, 60, 70, 80])\n",
    "dx = x.groupby([\"agegrp2\"])[\"DMDMARx\"].value_counts().unstack()\n",
    "dx = dx.apply(lambda y: y/y.sum(), axis=0)\n",
    "print(dx.to_string(float_format=\"%.2f\")) \n",
    " "
   ]
  },
  {
   "cell_type": "code",
   "execution_count": 95,
   "metadata": {},
   "outputs": [
    {
     "data": {
      "text/html": [
       "<div>\n",
       "<style scoped>\n",
       "    .dataframe tbody tr th:only-of-type {\n",
       "        vertical-align: middle;\n",
       "    }\n",
       "\n",
       "    .dataframe tbody tr th {\n",
       "        vertical-align: top;\n",
       "    }\n",
       "\n",
       "    .dataframe thead th {\n",
       "        text-align: right;\n",
       "    }\n",
       "</style>\n",
       "<table border=\"1\" class=\"dataframe\">\n",
       "  <thead>\n",
       "    <tr style=\"text-align: right;\">\n",
       "      <th>DMDMARx</th>\n",
       "      <th>Divorced</th>\n",
       "      <th>Living with partner</th>\n",
       "      <th>Married</th>\n",
       "      <th>Never married</th>\n",
       "      <th>Refused</th>\n",
       "      <th>Separated</th>\n",
       "      <th>Widowed</th>\n",
       "    </tr>\n",
       "    <tr>\n",
       "      <th>agegrp</th>\n",
       "      <th></th>\n",
       "      <th></th>\n",
       "      <th></th>\n",
       "      <th></th>\n",
       "      <th></th>\n",
       "      <th></th>\n",
       "      <th></th>\n",
       "    </tr>\n",
       "  </thead>\n",
       "  <tbody>\n",
       "    <tr>\n",
       "      <th>(10, 20]</th>\n",
       "      <td>NaN</td>\n",
       "      <td>0.017143</td>\n",
       "      <td>0.005714</td>\n",
       "      <td>0.205714</td>\n",
       "      <td>NaN</td>\n",
       "      <td>NaN</td>\n",
       "      <td>NaN</td>\n",
       "    </tr>\n",
       "    <tr>\n",
       "      <th>(20, 30]</th>\n",
       "      <td>0.004630</td>\n",
       "      <td>0.212963</td>\n",
       "      <td>0.238426</td>\n",
       "      <td>0.523148</td>\n",
       "      <td>NaN</td>\n",
       "      <td>0.016204</td>\n",
       "      <td>0.004630</td>\n",
       "    </tr>\n",
       "    <tr>\n",
       "      <th>(30, 40]</th>\n",
       "      <td>0.052402</td>\n",
       "      <td>0.157205</td>\n",
       "      <td>0.563319</td>\n",
       "      <td>0.194323</td>\n",
       "      <td>0.002183</td>\n",
       "      <td>0.026201</td>\n",
       "      <td>0.004367</td>\n",
       "    </tr>\n",
       "    <tr>\n",
       "      <th>(40, 50]</th>\n",
       "      <td>0.084788</td>\n",
       "      <td>0.082294</td>\n",
       "      <td>0.703242</td>\n",
       "      <td>0.097257</td>\n",
       "      <td>NaN</td>\n",
       "      <td>0.027431</td>\n",
       "      <td>0.004988</td>\n",
       "    </tr>\n",
       "    <tr>\n",
       "      <th>(50, 60]</th>\n",
       "      <td>0.125551</td>\n",
       "      <td>0.074890</td>\n",
       "      <td>0.651982</td>\n",
       "      <td>0.103524</td>\n",
       "      <td>NaN</td>\n",
       "      <td>0.022026</td>\n",
       "      <td>0.022026</td>\n",
       "    </tr>\n",
       "    <tr>\n",
       "      <th>(60, 70]</th>\n",
       "      <td>0.125858</td>\n",
       "      <td>0.050343</td>\n",
       "      <td>0.665904</td>\n",
       "      <td>0.086957</td>\n",
       "      <td>NaN</td>\n",
       "      <td>0.032037</td>\n",
       "      <td>0.038902</td>\n",
       "    </tr>\n",
       "    <tr>\n",
       "      <th>(70, 80]</th>\n",
       "      <td>0.141791</td>\n",
       "      <td>0.022388</td>\n",
       "      <td>0.611940</td>\n",
       "      <td>0.022388</td>\n",
       "      <td>NaN</td>\n",
       "      <td>0.034826</td>\n",
       "      <td>0.166667</td>\n",
       "    </tr>\n",
       "  </tbody>\n",
       "</table>\n",
       "</div>"
      ],
      "text/plain": [
       "DMDMARx   Divorced  Living with partner   Married  Never married   Refused  \\\n",
       "agegrp                                                                       \n",
       "(10, 20]       NaN             0.017143  0.005714       0.205714       NaN   \n",
       "(20, 30]  0.004630             0.212963  0.238426       0.523148       NaN   \n",
       "(30, 40]  0.052402             0.157205  0.563319       0.194323  0.002183   \n",
       "(40, 50]  0.084788             0.082294  0.703242       0.097257       NaN   \n",
       "(50, 60]  0.125551             0.074890  0.651982       0.103524       NaN   \n",
       "(60, 70]  0.125858             0.050343  0.665904       0.086957       NaN   \n",
       "(70, 80]  0.141791             0.022388  0.611940       0.022388       NaN   \n",
       "\n",
       "DMDMARx   Separated   Widowed  \n",
       "agegrp                         \n",
       "(10, 20]        NaN       NaN  \n",
       "(20, 30]   0.016204  0.004630  \n",
       "(30, 40]   0.026201  0.004367  \n",
       "(40, 50]   0.027431  0.004988  \n",
       "(50, 60]   0.022026  0.022026  \n",
       "(60, 70]   0.032037  0.038902  \n",
       "(70, 80]   0.034826  0.166667  "
      ]
     },
     "execution_count": 95,
     "metadata": {},
     "output_type": "execute_result"
    }
   ],
   "source": [
    "da[\"agegrp\"] = pd.cut(da.RIDAGEYR, [10,20, 30, 40, 50, 60, 70, 80])\n",
    "(da[da['RIAGENDRx'] == \"Male\"].groupby(['agegrp', 'DMDMARx']).size() / da[da['RIAGENDRx'] == \"Male\"].groupby(['agegrp']).size()).unstack()"
   ]
  },
  {
   "cell_type": "markdown",
   "metadata": {},
   "source": [
    "__Q2c.__ Comment on any notable differences that you see when comparing these results for females and for males."
   ]
  },
  {
   "cell_type": "markdown",
   "metadata": {},
   "source": [
    "## Answer\n",
    "**1.Marital Status Shift:** Similar to females, the proportions of marital status also change across different age groups for males. The proportion of males who are never married tends to decrease as age increases, while the proportion of males who are married tends to increase with age.\n",
    "\n",
    "**2.Higher Proportion of Married Males:** The highest proportion of married males is observed in the age group (30, 40]. This age group has a higher likelihood of being married compared to other age groups, similar to females.\n",
    "\n",
    "**3.Divorced Males in Older Age Groups:** The proportions of divorced males tend to increase in the older age groups, particularly in the age groups (50, 60] and (60, 70]. This indicates that divorce becomes more prevalent as males age, similar to females.\n",
    "\n",
    "**4.Widowed Males in Older Age Groups:** The proportion of widowed males is relatively low in the younger age groups but increases significantly in the older age group (70, 80]. This aligns with the natural progression of life and the higher likelihood of losing a spouse as one gets older, similar to females.\n",
    "\n",
    "**5.Living with Partner:** The proportion of males living with a partner is relatively low across all age groups, but it shows a slight decrease as age increases, similar to females.\n",
    "\n",
    "**Overall, the trends in the series of marginal distributions for males exhibit similarities to the trends observed for females, reflecting the societal and personal factors that influence marital decisions and life circumstances for males across different age groups.**"
   ]
  },
  {
   "cell_type": "markdown",
   "metadata": {},
   "source": [
    "## Question 3\n",
    "\n",
    "Construct a histogram of the distribution of heights using the BMXHT variable in the NHANES sample."
   ]
  },
  {
   "cell_type": "code",
   "execution_count": 96,
   "metadata": {},
   "outputs": [
    {
     "data": {
      "image/png": "[encoded data removed]",
      "text/plain": [
       "<Figure size 432x288 with 1 Axes>"
      ]
     },
     "metadata": {},
     "output_type": "display_data"
    }
   ],
   "source": [
    "# insert your code here\n",
    "sns.distplot(da.BMXHT.dropna())\n",
    "plt.show()"
   ]
  },
  {
   "cell_type": "markdown",
   "metadata": {},
   "source": [
    "__Q3a.__ Use the `bins` argument to [distplot](https://seaborn.pydata.org/generated/seaborn.distplot.html) to produce histograms with different numbers of bins.  Assess whether the default value for this argument gives a meaningful result, and comment on what happens as the number of bins grows excessively large or excessively small. "
   ]
  },
  {
   "cell_type": "code",
   "execution_count": 97,
   "metadata": {},
   "outputs": [
    {
     "data": {
      "image/png": "[encoded data removed]",
      "text/plain": [
       "<Figure size 432x288 with 1 Axes>"
      ]
     },
     "metadata": {},
     "output_type": "display_data"
    }
   ],
   "source": [
    "sns.distplot(da.BMXHT.dropna(), bins = 50)\n",
    "plt.show()"
   ]
  },
  {
   "cell_type": "markdown",
   "metadata": {},
   "source": [
    "__Q3b.__ Make separate histograms for the heights of women and men, then make a side-by-side boxplot showing the heights of women and men."
   ]
  },
  {
   "cell_type": "code",
   "execution_count": 98,
   "metadata": {},
   "outputs": [
    {
     "data": {
      "image/png": "[encoded data removed]",
      "text/plain": [
       "<Figure size 432x288 with 1 Axes>"
      ]
     },
     "metadata": {},
     "output_type": "display_data"
    },
    {
     "data": {
      "image/png": "[encoded data removed]",
      "text/plain": [
       "<Figure size 216x432 with 2 Axes>"
      ]
     },
     "metadata": {},
     "output_type": "display_data"
    }
   ],
   "source": [
    "# insert your code here\n",
    "sns.boxplot(x = da[\"BMXHT\"], y = da[\"RIAGENDRx\"])\n",
    "g = sns.FacetGrid(da, row = \"RIAGENDRx\")\n",
    "g = g.map(plt.hist, \"BMXHT\")\n",
    "plt.show()"
   ]
  },
  {
   "cell_type": "markdown",
   "metadata": {},
   "source": [
    "__Q3c.__ Comment on what features, if any are not represented clearly in the boxplots, and what features, if any, are easier to see in the boxplots than in the histograms."
   ]
  },
  {
   "cell_type": "markdown",
   "metadata": {},
   "source": [
    "## Answer\n",
    "In the boxplots, some features that may not be represented clearly include the detailed shape of the height distribution within each gender and the exact frequencies or counts of specific height values.\n",
    "\n",
    "On the other hand, the boxplots make it easier to compare the central tendency (median) and spread (interquartile range) of the height distributions between women and men. The boxplots provide a clear visual representation of the median height, the range between the first and third quartiles, and any potential outliers. This allows for a quick and comparative assessment of the distributional characteristics between the two genders.\n",
    "\n",
    "In contrast, the histograms provide a more detailed view of the height distribution, including the shape, peaks, valleys, and frequencies of different height values. They allow for a closer examination of the frequency distribution within each gender and can reveal additional patterns or modes that may not be apparent in the boxplots. The histograms provide a more comprehensive understanding of the complete distribution of heights within each gender.\n"
   ]
  },
  {
   "cell_type": "markdown",
   "metadata": {},
   "source": [
    "## Question 4\n",
    "\n",
    "Make a boxplot showing the distribution of within-subject differences between the first and second systolic blood pressure measurents ([BPXSY1](https://wwwn.cdc.gov/Nchs/Nhanes/2015-2016/BPX_I.htm#BPXSY1) and [BPXSY2](https://wwwn.cdc.gov/Nchs/Nhanes/2015-2016/BPX_I.htm#BPXSY2))."
   ]
  },
  {
   "cell_type": "code",
   "execution_count": 127,
   "metadata": {},
   "outputs": [
    {
     "data": {
      "image/png": "[encoded data removed]",
      "text/plain": [
       "<Figure size 432x288 with 1 Axes>"
      ]
     },
     "metadata": {},
     "output_type": "display_data"
    }
   ],
   "source": [
    "# insert your code here\n",
    "BPXSY_diff = da['BPXSY1'] - da['BPXSY2']\n",
    "\n",
    "\n",
    "sns.boxplot(BPXSY_diff)\n",
    "\n",
    "\n",
    "plt.xlabel('Difference in Systolic Blood Pressure')\n",
    "plt.ylabel('mmHg')\n",
    "plt.title('Distribution of Within-Subject Differences in Systolic Blood Pressure')\n",
    "\n",
    "\n",
    "plt.show()"
   ]
  },
  {
   "cell_type": "markdown",
   "metadata": {},
   "source": [
    "__Q4a.__ What proportion of the subjects have a lower SBP on the second reading compared to the first?"
   ]
  },
  {
   "cell_type": "code",
   "execution_count": 128,
   "metadata": {},
   "outputs": [
    {
     "name": "stdout",
     "output_type": "stream",
     "text": [
      "Proportion of subjects with lower SBP on the second reading: 34.12%\n"
     ]
    }
   ],
   "source": [
    "# insert your code here\n",
    "da['BPXSY_diff'] = da['BPXSY1'] - da['BPXSY2']\n",
    "\n",
    "lower_sbp_prop = (da['BPXSY_diff'] < 0).mean()\n",
    "\n",
    "print(f\"Proportion of subjects with lower SBP on the second reading: {lower_sbp_prop:.2%}\")"
   ]
  },
  {
   "cell_type": "markdown",
   "metadata": {},
   "source": [
    "__Q4b.__ Make side-by-side boxplots of the two systolic blood pressure variables."
   ]
  },
  {
   "cell_type": "code",
   "execution_count": 124,
   "metadata": {},
   "outputs": [
    {
     "data": {
      "image/png": "[encoded data removed]",
      "text/plain": [
       "<Figure size 432x288 with 1 Axes>"
      ]
     },
     "metadata": {},
     "output_type": "display_data"
    }
   ],
   "source": [
    "# insert your code here\n",
    "data = pd.DataFrame({'BPXSY1': da['BPXSY1'], 'BPXSY2': da['BPXSY2']})\n",
    "sns.boxplot(data=data)\n",
    "plt.xlabel('Systolic Blood Pressure')\n",
    "plt.ylabel('mmHg')\n",
    "plt.title('Comparison of First and Second Systolic Blood Pressure')\n",
    "\n",
    "# Show the plot\n",
    "plt.show()"
   ]
  },
  {
   "cell_type": "markdown",
   "metadata": {},
   "source": [
    "__Q4c.__ Comment on the variation within either the first or second systolic blood pressure measurements, and the variation in the within-subject differences between the first and second systolic blood pressure measurements."
   ]
  },
  {
   "cell_type": "markdown",
   "metadata": {},
   "source": [
    "## Answer\n",
    "The boxplot provides a visual representation of the variation within the first and second systolic blood pressure measurements and the variation in the within-subject differences. It allows for a quick comparison between the two and facilitates the identification of potential differences or similarities in the distribution and spread of the data."
   ]
  },
  {
   "cell_type": "markdown",
   "metadata": {},
   "source": [
    "## Question 5\n",
    "\n",
    "Construct a frequency table of household sizes for people within each educational attainment category (the relevant variable is [DMDEDUC2](https://wwwn.cdc.gov/Nchs/Nhanes/2015-2016/DEMO_I.htm#DMDEDUC2)).  Convert the frequencies to proportions."
   ]
  },
  {
   "cell_type": "code",
   "execution_count": 136,
   "metadata": {},
   "outputs": [
    {
     "name": "stdout",
     "output_type": "stream",
     "text": [
      "DMDHHSIZ         1         2         3         4         5         6         7\n",
      "DMDEDUC2                                                                      \n",
      "1.0       0.109924  0.224427  0.146565  0.132824  0.148092  0.108397  0.129771\n",
      "2.0       0.116641  0.222395  0.163297  0.152411  0.146190  0.113530  0.085537\n",
      "3.0       0.152614  0.270658  0.171164  0.161889  0.109612  0.065767  0.068297\n",
      "4.0       0.151141  0.268970  0.193091  0.169031  0.122147  0.050586  0.045034\n",
      "5.0       0.142753  0.347731  0.193997  0.165447  0.095168  0.029283  0.025622\n",
      "9.0            NaN  0.666667       NaN       NaN  0.333333       NaN       NaN\n"
     ]
    }
   ],
   "source": [
    "# insert your code here\n",
    "data = da[['DMDEDUC2', 'DMDHHSIZ']]\n",
    "\n",
    "# Group by educational attainment and household size, and count the frequencies\n",
    "freq_table = data.groupby(['DMDEDUC2', 'DMDHHSIZ']).size().unstack()\n",
    "\n",
    "# Convert frequencies to proportions\n",
    "proportion_table = freq_table.apply(lambda x: x / x.sum(), axis=1)\n",
    "\n",
    "print(proportion_table)\n",
    "\n"
   ]
  },
  {
   "cell_type": "markdown",
   "metadata": {},
   "source": [
    "__Q5a.__ Comment on any major differences among the distributions."
   ]
  },
  {
   "cell_type": "markdown",
   "metadata": {},
   "source": [
    "## Answer\n",
    "**1.Educational Attainment Category 1.0:** This category shows a relatively balanced distribution across household sizes, with slightly higher proportions in sizes 2, 3, and 5 compared to other sizes.\n",
    "\n",
    "**2.Educational Attainment Category 2.0:** Similar to Category 1.0, this category also has a balanced distribution across household sizes, with slightly higher proportions in sizes 2, 3, and 5.\n",
    "\n",
    "**3.Educational Attainment Category 3.0:** In this category, there is a higher proportion of individuals in household sizes 2 and 3 compared to other sizes. The proportion decreases gradually for larger household sizes.\n",
    "\n",
    "**4.Educational Attainment Category 4.0:** Similar to Category 3.0, this category also shows a higher proportion of individuals in household sizes 2 and 3. However, the proportion of individuals in larger household sizes (4, 5, 6, 7) is relatively higher compared to Category 3.0.\n",
    "\n",
    "**5.Educational Attainment Category 5.0:** This category has a higher proportion of individuals in larger household sizes, particularly in sizes 2, 3, and 4. The proportion decreases for sizes 5, 6, and 7.\n",
    "\n",
    "**6.Educational Attainment Category 9.0:** This category represents missing or unknown educational attainment. There is a higher proportion of individuals in household size 2 compared to other sizes.\n",
    "\n",
    "**Overall, the major differences among the distributions can be seen in the proportions of individuals across different household sizes within each educational attainment category. Some categories have relatively balanced distributions across sizes, while others show higher proportions in specific sizes.**"
   ]
  },
  {
   "cell_type": "markdown",
   "metadata": {},
   "source": [
    "__Q5b.__ Restrict the sample to people between 30 and 40 years of age.  Then calculate the median household size for women and men within each level of educational attainment."
   ]
  },
  {
   "cell_type": "code",
   "execution_count": 137,
   "metadata": {},
   "outputs": [
    {
     "name": "stdout",
     "output_type": "stream",
     "text": [
      "RIAGENDRx  Female  Male\n",
      "DMDEDUC2               \n",
      "1.0           5.0   5.0\n",
      "2.0           5.0   4.5\n",
      "3.0           5.0   4.0\n",
      "4.0           4.0   4.0\n",
      "5.0           3.0   3.0\n"
     ]
    }
   ],
   "source": [
    "# insert your code here\n",
    "age_filtered = da[(da['RIDAGEYR'] >= 30) & (da['RIDAGEYR'] <= 40)]\n",
    "data = age_filtered[['DMDEDUC2', 'DMDHHSIZ', 'RIAGENDRx']]\n",
    "median_table = data.groupby(['DMDEDUC2', 'RIAGENDRx'])['DMDHHSIZ'].median().unstack()\n",
    "\n",
    "print(median_table)"
   ]
  },
  {
   "cell_type": "markdown",
   "metadata": {},
   "source": [
    "## Question 6\n",
    "\n",
    "The participants can be clustered into \"maked variance units\" (MVU) based on every combination of the variables [SDMVSTRA](https://wwwn.cdc.gov/Nchs/Nhanes/2015-2016/DEMO_I.htm#SDMVSTRA) and [SDMVPSU](https://wwwn.cdc.gov/Nchs/Nhanes/2015-2016/DEMO_I.htm#SDMVPSU).  Calculate the mean age ([RIDAGEYR](https://wwwn.cdc.gov/Nchs/Nhanes/2015-2016/DEMO_I.htm#RIDAGEYR)), height ([BMXHT](https://wwwn.cdc.gov/Nchs/Nhanes/2015-2016/BMX_I.htm#BMXHT)), and BMI ([BMXBMI](https://wwwn.cdc.gov/Nchs/Nhanes/2015-2016/BMX_I.htm#BMXBMI)) for each gender ([RIAGENDR](https://wwwn.cdc.gov/Nchs/Nhanes/2015-2016/DEMO_I.htm#RIAGENDR)), within each MVU, and report the ratio between the largest and smallest mean (e.g. for height) across the MVUs."
   ]
  },
  {
   "cell_type": "code",
   "execution_count": 138,
   "metadata": {},
   "outputs": [
    {
     "name": "stdout",
     "output_type": "stream",
     "text": [
      "Ratio of largest to smallest mean age: 1.32\n",
      "Ratio of largest to smallest mean height: 1.14\n",
      "Ratio of largest to smallest mean BMI: 1.28\n"
     ]
    }
   ],
   "source": [
    "# insert your code here\n",
    "data = da[['SDMVSTRA', 'SDMVPSU', 'RIAGENDR', 'RIDAGEYR', 'BMXHT', 'BMXBMI']]\n",
    "\n",
    "means_table = data.groupby(['SDMVSTRA', 'SDMVPSU', 'RIAGENDR']).mean()\n",
    "\n",
    "ratio_age = means_table['RIDAGEYR'].max() / means_table['RIDAGEYR'].min()\n",
    "ratio_height = means_table['BMXHT'].max() / means_table['BMXHT'].min()\n",
    "ratio_bmi = means_table['BMXBMI'].max() / means_table['BMXBMI'].min()\n",
    "\n",
    "print(\"Ratio of largest to smallest mean age: {:.2f}\".format(ratio_age))\n",
    "print(\"Ratio of largest to smallest mean height: {:.2f}\".format(ratio_height))\n",
    "print(\"Ratio of largest to smallest mean BMI: {:.2f}\".format(ratio_bmi))"
   ]
  },
  {
   "cell_type": "markdown",
   "metadata": {},
   "source": [
    "__Q6a.__ Comment on the extent to which mean age, height, and BMI vary among the MVUs."
   ]
  },
  {
   "cell_type": "markdown",
   "metadata": {},
   "source": [
    "- For age, the ratio of 1.32 suggests a moderate level of variation, indicating that there is some difference in the mean age between the MVUs.\n",
    "- For height, the ratio of 1.14 indicates a relatively small variation in mean height across the MVUs.\n",
    "- For BMI, the ratio of 1.28 suggests a moderate level of variation, indicating some difference in mean BMI between the MVUs."
   ]
  },
  {
   "cell_type": "markdown",
   "metadata": {},
   "source": [
    "__Q6b.__ Calculate the inter-quartile range (IQR) for age, height, and BMI for each gender and each MVU.  Report the ratio between the largest and smalles IQR across the MVUs."
   ]
  },
  {
   "cell_type": "code",
   "execution_count": 140,
   "metadata": {},
   "outputs": [
    {
     "name": "stdout",
     "output_type": "stream",
     "text": [
      "Ratio of largest to smallest IQR for age: 1.83\n",
      "Ratio of largest to smallest IQR for height: 1.62\n",
      "Ratio of largest to smallest IQR for BMI: 2.87\n"
     ]
    }
   ],
   "source": [
    "# insert your code here\n",
    "data = da[['SDMVSTRA', 'SDMVPSU', 'RIAGENDR', 'RIDAGEYR', 'BMXHT', 'BMXBMI']]\n",
    "\n",
    "\n",
    "iqr_table = data.groupby(['SDMVSTRA', 'SDMVPSU', 'RIAGENDR']).agg({'RIDAGEYR': lambda x: x.quantile(0.75) - x.quantile(0.25),\n",
    "                                                                 'BMXHT': lambda x: x.quantile(0.75) - x.quantile(0.25),\n",
    "                                                                 'BMXBMI': lambda x: x.quantile(0.75) - x.quantile(0.25)})\n",
    "\n",
    "ratio_age = iqr_table['RIDAGEYR'].max() / iqr_table['RIDAGEYR'].min()\n",
    "ratio_height = iqr_table['BMXHT'].max() / iqr_table['BMXHT'].min()\n",
    "ratio_bmi = iqr_table['BMXBMI'].max() / iqr_table['BMXBMI'].min()\n",
    "\n",
    "print(\"Ratio of largest to smallest IQR for age: {:.2f}\".format(ratio_age))\n",
    "print(\"Ratio of largest to smallest IQR for height: {:.2f}\".format(ratio_height))\n",
    "print(\"Ratio of largest to smallest IQR for BMI: {:.2f}\".format(ratio_bmi))\n"
   ]
  },
  {
   "cell_type": "markdown",
   "metadata": {},
   "source": [
    "__Q6c.__ Comment on the extent to which the IQR for age, height, and BMI vary among the MVUs."
   ]
  },
  {
   "cell_type": "markdown",
   "metadata": {},
   "source": [
    "- Based on the given ratios, we can observe that the IQR for BMI has the largest variation among the MVUs, with a ratio of 2.87. This indicates a significant difference in the spread of BMI values between different MVUs. The IQR for age also shows notable variability with a ratio of 1.83, while the IQR for height has relatively less variation with a ratio of 1.62."
   ]
  },
  {
   "cell_type": "code",
   "execution_count": null,
   "metadata": {},
   "outputs": [],
   "source": []
  }
 ],
 "metadata": {
  "kernelspec": {
   "display_name": "Python 3",
   "language": "python",
   "name": "python3"
  },
  "language_info": {
   "codemirror_mode": {
    "name": "ipython",
    "version": 3
   },
   "file_extension": ".py",
   "mimetype": "text/x-python",
   "name": "python",
   "nbconvert_exporter": "python",
   "pygments_lexer": "ipython3",
   "version": "3.6.3"
  }
 },
 "nbformat": 4,
 "nbformat_minor": 2
}
